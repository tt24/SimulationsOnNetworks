{
 "cells": [
  {
   "cell_type": "code",
   "execution_count": 33,
   "metadata": {
    "collapsed": true
   },
   "outputs": [],
   "source": [
    "import networkx as nx\n",
    "import plotly.plotly as py\n",
    "from plotly.graph_objs import *\n",
    "import matplotlib.pyplot as plt\n",
    "%matplotlib inline"
   ]
  },
  {
   "cell_type": "code",
   "execution_count": 63,
   "metadata": {
    "collapsed": false
   },
   "outputs": [],
   "source": [
    "G=nx.gnp_random_graph(5, 1)"
   ]
  },
  {
   "cell_type": "code",
   "execution_count": 64,
   "metadata": {
    "collapsed": true
   },
   "outputs": [],
   "source": [
    "node_colors =[]\n",
    "node_colors.append('r')\n",
    "node_colors.append('b')\n",
    "node_colors.append('g')"
   ]
  },
  {
   "cell_type": "code",
   "execution_count": 65,
   "metadata": {
    "collapsed": false
   },
   "outputs": [
    {
     "data": {
      "image/png": "[encoded data removed]",
      "text/plain": [
       "<matplotlib.figure.Figure at 0x7f1f2ae84610>"
      ]
     },
     "metadata": {},
     "output_type": "display_data"
    }
   ],
   "source": [
    "nx.draw(G, node_color=node_colors,edge_color='grey', with_labels=False)"
   ]
  },
  {
   "cell_type": "code",
   "execution_count": null,
   "metadata": {
    "collapsed": true
   },
   "outputs": [],
   "source": [
    "class SIRSynchronousDynamics(GraphWithSynchronousDynamics):\n",
    "    \n",
    "    # the possible dynamics states of a node for SEIR dynamics\n",
    "    SUSCEPTIBLE = 'S'\n",
    "    EXPOSED = 'E'\n",
    "    INFECTED = 'I'\n",
    "    RECOVERED = 'R'\n",
    "    \n",
    "    # list of infected nodes, the sites of all the dynamics\n",
    "    _infected = []\n",
    "    \n",
    "    # list of dynamic states captured during a simulation\n",
    "    _states = dict()\n",
    "    \n",
    "    def __init__( self, pInfect = 0.0, pRecover = 1.0, pInfected = 0.0, g = None ):\n",
    "        '''Generate a graph with dynamics for the given parameters.\n",
    "        \n",
    "        pInfect: infection probability (defaults to 0.0)\n",
    "        pRecover: probability of recovery (defaults to 1.0)\n",
    "        pInfected: initial infection probability (defaults to 0.0)\n",
    "        g: the graph to copy from (optional)'''\n",
    "        GraphWithSynchronousDynamics.__init__(self, g)\n",
    "        self._pInfect = pInfect\n",
    "        self._pRecover = pRecover\n",
    "        self._pInfected = pInfected\n",
    "            \n",
    "    def before( self ):\n",
    "        '''Seed the network with infected nodes, and mark all edges\n",
    "        as unoccupied by the dynamics.'''\n",
    "        self._infected = []       # in case we re-run from a dirty intermediate state\n",
    "        for n in self.node.keys():\n",
    "            if numpy.random.random() <= self._pInfected:\n",
    "                self._infected.insert(0, n)\n",
    "                self.node[n][self.DYNAMICAL_STATE] = self.INFECTED\n",
    "            else:\n",
    "                self.node[n][self.DYNAMICAL_STATE] = self.SUSCEPTIBLE\n",
    "        for (n, m, data) in self.edges_iter(data = True):\n",
    "            data[self.OCCUPIED] = False\n",
    "\n",
    "    def _dynamics_step( self, t ):\n",
    "        '''Optimised per-step dynamics that only runs the dynamics at infected\n",
    "        nodes, since they're the only places where state changes originate. At the\n",
    "        end of each timestep we re-build the infected node list.\n",
    "        \n",
    "        t: timestep being simulated\n",
    "        returns: the number of events that happened in this timestep'''\n",
    "        events = 0\n",
    "        \n",
    "        # run model dynamics on all infected nodes\n",
    "        for n in self._infected:\n",
    "            events = events + self.model(n)\n",
    "    \n",
    "        # re-build the infected list if we need to\n",
    "        if events > 0:\n",
    "            self._infected = [ n for n in self._infected if self.node[n][self.DYNAMICAL_STATE] == self.INFECTED ]\n",
    "        \n",
    "        # if the state has changed, capture it\n",
    "        if (t == 0) or (events > 0):\n",
    "            ss = dict()\n",
    "            for n in self.nodes_iter():\n",
    "                ss[n] = self.node[n][self.DYNAMICAL_STATE]\n",
    "            self._states[t] = ss\n",
    "            \n",
    "        return events\n",
    "    \n",
    "    def model( self, n ):\n",
    "        '''Apply the SIR dynamics to node n. From the re-definition of _dynamics_step()\n",
    "        we already know this node is infected.\n",
    "\n",
    "        n: the node\n",
    "        returns: the number of changes made'''\n",
    "        events = 0\n",
    "        \n",
    "        # infect susceptible neighbours with probability pInfect\n",
    "        for (_, m, data) in self.edges_iter(n, data = True):\n",
    "            if self.node[m][self.DYNAMICAL_STATE] == self.SUSCEPTIBLE:\n",
    "                if numpy.random.random() <= self._pInfect:\n",
    "                    events = events + 1\n",
    "                    \n",
    "                    # infect the node\n",
    "                    self.node[m][self.DYNAMICAL_STATE] = self.INFECTED\n",
    "                    self._infected.insert(0, m)\n",
    "                        \n",
    "                    # label the edge we traversed as occupied\n",
    "                    data[self.OCCUPIED] = True\n",
    "    \n",
    "        # recover with probability pRecover\n",
    "        if numpy.random.random() <= self._pRecover:\n",
    "            # recover the node\n",
    "            events = events + 1\n",
    "            self.node[n][self.DYNAMICAL_STATE] = self.RECOVERED\n",
    "                \n",
    "        return events\n",
    "    \n",
    "    def at_equilibrium( self, t ):\n",
    "        '''SIR dynamics is at equilibrium if there are no more\n",
    "        infected nodes left in the network or if we've exceeded\n",
    "        the default simulation length.\n",
    "        \n",
    "        returns: True if the model has stopped'''\n",
    "        if t >= 20000:\n",
    "            return True\n",
    "        else:\n",
    "            return (len(self._infected) == 0)\n",
    "            \n",
    "    def dynamics( self ):\n",
    "        '''Returns statistics of outbreak sizes. This skeletonises the\n",
    "        network, so it can't have any further dynamics run on it.\n",
    "        \n",
    "        returns: a dict of statistical properties'''\n",
    "        \n",
    "        # run the basic dynamics\n",
    "        rc = self._dynamics()\n",
    "        \n",
    "        # compute the limits and means\n",
    "        cs = sorted(networkx.connected_components(self.skeletonise()), key = len, reverse = True)\n",
    "        max_outbreak_size = len(cs[0])\n",
    "        max_outbreak_proportion = (max_outbreak_size + 0.0) / self.order()\n",
    "        mean_outbreak_size = numpy.mean([ len(c) for c in cs ])\n",
    "        \n",
    "        # add parameters and metrics for this simulation run\n",
    "        rc['pInfected' ] = self._pInfected,\n",
    "        rc['pRecover'] = self._pRecover,\n",
    "        rc['pInfect'] = self._pInfect,\n",
    "        rc['N'] = self.order(),\n",
    "        rc['mean_outbreak_size'] = mean_outbreak_size,\n",
    "        rc['max_outbreak_size'] = max_outbreak_size,\n",
    "        rc['max_outbreak_proportion'] = max_outbreak_proportion\n",
    "        rc['evolution'] = self._states\n",
    "        return rc"
   ]
  }
 ],
 "metadata": {
  "kernelspec": {
   "display_name": "Python 2",
   "language": "python",
   "name": "python2"
  },
  "language_info": {
   "codemirror_mode": {
    "name": "ipython",
    "version": 2
   },
   "file_extension": ".py",
   "mimetype": "text/x-python",
   "name": "python",
   "nbconvert_exporter": "python",
   "pygments_lexer": "ipython2",
   "version": "2.7.8"
  }
 },
 "nbformat": 4,
 "nbformat_minor": 0
}
