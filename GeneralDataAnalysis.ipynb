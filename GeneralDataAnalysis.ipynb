{
 "cells": [
  {
   "cell_type": "code",
   "execution_count": 1,
   "metadata": {
    "collapsed": true
   },
   "outputs": [],
   "source": [
    "import csv\n",
    "import matplotlib.pyplot as plt\n",
    "%matplotlib inline"
   ]
  },
  {
   "cell_type": "code",
   "execution_count": 31,
   "metadata": {
    "collapsed": true
   },
   "outputs": [],
   "source": [
    "def estimate_average(b,delt=0,rew=0, col):\n",
    "    data_lists = {}\n",
    "    i = 0\n",
    "    with open('ExperimentRunner/src/ERgraphExperiments/beta'+str(b)+'/delta'+str(delt)+'/experiment'+str(rew)+'.csv', 'rb') as f:\n",
    "        reader = csv.reader(f)\n",
    "        for row in reader:\n",
    "            data_lists[i] = list(row)\n",
    "            i=i+1\n",
    "            \n",
    "    data = []\n",
    "    average_data = 0\n",
    "    for j in range(1,len(data_lists)):\n",
    "        var = float(data_lists[j][col])\n",
    "        average_data = average_data+var\n",
    "        data.append(var)\n",
    "    return average_data/len(data)\n"
   ]
  },
  {
   "cell_type": "code",
   "execution_count": 29,
   "metadata": {
    "collapsed": false
   },
   "outputs": [
    {
     "name": "stdout",
     "output_type": "stream",
     "text": [
      "658.718267027 1744.72 0.348944\n"
     ]
    }
   ],
   "source": [
    "estimate_average(0,0,0)"
   ]
  },
  {
   "cell_type": "code",
   "execution_count": 32,
   "metadata": {
    "collapsed": false
   },
   "outputs": [
    {
     "name": "stdout",
     "output_type": "stream",
     "text": [
      "658.718267027\n",
      "1744.72\n",
      "0.348944\n"
     ]
    }
   ],
   "source": [
    "print estimate_average(0,0,0, 13)\n",
    "print estimate_average(0,0,0, 14)\n",
    "print estimate_average(0,0,0, 15)"
   ]
  },
  {
   "cell_type": "code",
   "execution_count": null,
   "metadata": {
    "collapsed": true
   },
   "outputs": [],
   "source": [
    "import plotly.plotly as py\n",
    "import plotly.graph_objs as go\n",
    "\n",
    "bar_data = go.Bar(\n",
    "    x=['Feature A', 'Feature B', 'Feature C', 'Feature D', 'Feature E'],\n",
    "    y=[20, 14, 23, 25, 22],\n",
    "    marker=dict(\n",
    "        color=['rgba(204,204,204,1)', 'rgba(222,45,38,0.8)', 'rgba(204,204,204,1)', 'rgba(204,204,204,1)', 'rgba(204,204,204,1)'],\n",
    "    ),\n",
    ")\n",
    "data = [bar_data]\n",
    "layout = go.Layout(\n",
    "    title='Least Used Feature',\n",
    ")\n",
    "fig = go.Figure(data=data, layout=layout)\n",
    "plot_url = py.plot(fig, filename='color-bar')"
   ]
  }
 ],
 "metadata": {
  "kernelspec": {
   "display_name": "Python 2",
   "language": "python",
   "name": "python2"
  },
  "language_info": {
   "codemirror_mode": {
    "name": "ipython",
    "version": 2
   },
   "file_extension": ".py",
   "mimetype": "text/x-python",
   "name": "python",
   "nbconvert_exporter": "python",
   "pygments_lexer": "ipython2",
   "version": "2.7.8"
  }
 },
 "nbformat": 4,
 "nbformat_minor": 0
}
