{
 "cells": [
  {
   "cell_type": "code",
   "execution_count": 1,
   "metadata": {
    "collapsed": true
   },
   "outputs": [],
   "source": [
    "import csv\n",
    "import matplotlib.pyplot as plt\n",
    "%matplotlib inline"
   ]
  },
  {
   "cell_type": "code",
   "execution_count": 2,
   "metadata": {
    "collapsed": false
   },
   "outputs": [],
   "source": [
    "def estimate_average(b,col,delt=-1,rew=-1):\n",
    "    data_lists = {}\n",
    "    i = 0\n",
    "    if delt==-1:\n",
    "        with open('ExperimentRunner/src/ERgraphExperiments/beta'+str(b)+'/seir-experiment1.csv', 'rb') as f:\n",
    "            reader = csv.reader(f)\n",
    "            for row in reader:\n",
    "                data_lists[i] = list(row)\n",
    "                i=i+1\n",
    "    else:\n",
    "        with open('ExperimentRunner/src/ERgraphExperiments/beta'+str(b)+'/delta'+str(delt)+'/experiment'+str(rew)+'.csv', 'rb') as f:\n",
    "            reader = csv.reader(f)\n",
    "            for row in reader:\n",
    "                data_lists[i] = list(row)\n",
    "                i=i+1\n",
    "            \n",
    "    data = []\n",
    "    average_data = 0\n",
    "    for j in range(1,len(data_lists)):\n",
    "        var = float(data_lists[j][col])\n",
    "        average_data = average_data+var\n",
    "        data.append(var)\n",
    "    return average_data/len(data)\n"
   ]
  },
  {
   "cell_type": "code",
   "execution_count": 14,
   "metadata": {
    "collapsed": false
   },
   "outputs": [
    {
     "name": "stdout",
     "output_type": "stream",
     "text": [
      "658.718267027\n",
      "1744.72\n",
      "0.348944\n",
      "390.145027143\n",
      "1825.78\n",
      "0.365156\n"
     ]
    }
   ],
   "source": [
    "print estimate_average(0,13, 0,0)\n",
    "print estimate_average(0,14,0,0)\n",
    "print estimate_average(0,15,0,0)\n",
    "print estimate_average(0,10)\n",
    "print estimate_average(0,11)\n",
    "print estimate_average(0,12)"
   ]
  },
  {
   "cell_type": "code",
   "execution_count": 32,
   "metadata": {
    "collapsed": false
   },
   "outputs": [
    {
     "data": {
      "text/html": [
       "<iframe id=\"igraph\" scrolling=\"no\" style=\"border:none;\"seamless=\"seamless\" src=\"https://plot.ly/~tt24/7.embed\" height=\"525px\" width=\"100%\"></iframe>"
      ],
      "text/plain": [
       "<plotly.tools.PlotlyDisplay object>"
      ]
     },
     "execution_count": 32,
     "metadata": {},
     "output_type": "execute_result"
    }
   ],
   "source": [
    "import plotly.plotly as py\n",
    "import plotly.graph_objs as go\n",
    "deltas = [0.289,0.389,0.489,0.589]\n",
    "rewires = [0.0,0.15,0.25,0.35]\n",
    "color1 = ['rgba(204,204,204,1)']\n",
    "x1 = [\"\"]\n",
    "y1 = [estimate_average(0,10)]\n",
    "for delta in range(0,len(deltas)):\n",
    "    for rewire in range(0, len(rewires)):\n",
    "        x1.append(\"$\\\\delta=\"+str(deltas[delta])+\",\\\\quad r\\_degree=\"+str(rewires[rewire])+\"$\")\n",
    "        y1.append(estimate_average(0,13, delta,rewire))\n",
    "        color1.append('rgba(222,45,38,0.8)')\n",
    "\n",
    "bar_data = go.Bar(\n",
    "    x=x1,\n",
    "    y=y1,\n",
    "    marker=dict(\n",
    "        color=color1,\n",
    "    ),\n",
    ")\n",
    "data = [bar_data]\n",
    "layout = go.Layout(\n",
    "    title='Mean Outbreak Size',\n",
    ")\n",
    "fig = go.Figure(data=data, layout=layout)\n",
    "py.iplot(fig, filename='pandas/volts_histogram')\n",
    "# plot_url = py.plot(fig, filename='color-bar')"
   ]
  },
  {
   "cell_type": "code",
   "execution_count": 14,
   "metadata": {
    "collapsed": false
   },
   "outputs": [
    {
     "ename": "PlotlyError",
     "evalue": "Request throttled. You've created/updated more charts than your allowed limit of 50/day. You may either wait one day or upgrade your account. Visit https://plot.ly/settings/subscription/ to upgrade.",
     "output_type": "error",
     "traceback": [
      "\u001b[1;31m---------------------------------------------------------------------------\u001b[0m",
      "\u001b[1;31mPlotlyError\u001b[0m                               Traceback (most recent call last)",
      "\u001b[1;32m<ipython-input-14-7dcf1f9bd270>\u001b[0m in \u001b[0;36m<module>\u001b[1;34m()\u001b[0m\n\u001b[0;32m     42\u001b[0m \u001b[1;33m\u001b[0m\u001b[0m\n\u001b[0;32m     43\u001b[0m \u001b[0mfig\u001b[0m \u001b[1;33m=\u001b[0m \u001b[0mgo\u001b[0m\u001b[1;33m.\u001b[0m\u001b[0mFigure\u001b[0m\u001b[1;33m(\u001b[0m\u001b[0mdata\u001b[0m\u001b[1;33m=\u001b[0m\u001b[0mdata\u001b[0m\u001b[1;33m,\u001b[0m \u001b[0mlayout\u001b[0m\u001b[1;33m=\u001b[0m\u001b[0mlayout\u001b[0m\u001b[1;33m)\u001b[0m\u001b[1;33m\u001b[0m\u001b[0m\n\u001b[1;32m---> 44\u001b[1;33m \u001b[0mpy\u001b[0m\u001b[1;33m.\u001b[0m\u001b[0miplot\u001b[0m\u001b[1;33m(\u001b[0m\u001b[0mfig\u001b[0m\u001b[1;33m,\u001b[0m \u001b[0mfilename\u001b[0m\u001b[1;33m=\u001b[0m\u001b[1;34m'MaxPropOS'\u001b[0m\u001b[1;33m+\u001b[0m\u001b[0mstr\u001b[0m\u001b[1;33m(\u001b[0m\u001b[0mbeta\u001b[0m\u001b[1;33m)\u001b[0m\u001b[1;33m)\u001b[0m\u001b[1;33m\u001b[0m\u001b[0m\n\u001b[0m\u001b[0;32m     45\u001b[0m \u001b[1;31m# plot_url = py.plot(fig, filename='color-bar')\u001b[0m\u001b[1;33m\u001b[0m\u001b[1;33m\u001b[0m\u001b[0m\n",
      "\u001b[1;32m/cs/home/tt24/.local/lib/python2.7/site-packages/plotly/plotly/plotly.pyc\u001b[0m in \u001b[0;36miplot\u001b[1;34m(figure_or_data, **plot_options)\u001b[0m\n\u001b[0;32m    149\u001b[0m     \u001b[1;32mif\u001b[0m \u001b[1;34m'auto_open'\u001b[0m \u001b[1;32mnot\u001b[0m \u001b[1;32min\u001b[0m \u001b[0mplot_options\u001b[0m\u001b[1;33m:\u001b[0m\u001b[1;33m\u001b[0m\u001b[0m\n\u001b[0;32m    150\u001b[0m         \u001b[0mplot_options\u001b[0m\u001b[1;33m[\u001b[0m\u001b[1;34m'auto_open'\u001b[0m\u001b[1;33m]\u001b[0m \u001b[1;33m=\u001b[0m \u001b[0mFalse\u001b[0m\u001b[1;33m\u001b[0m\u001b[0m\n\u001b[1;32m--> 151\u001b[1;33m     \u001b[0murl\u001b[0m \u001b[1;33m=\u001b[0m \u001b[0mplot\u001b[0m\u001b[1;33m(\u001b[0m\u001b[0mfigure_or_data\u001b[0m\u001b[1;33m,\u001b[0m \u001b[1;33m**\u001b[0m\u001b[0mplot_options\u001b[0m\u001b[1;33m)\u001b[0m\u001b[1;33m\u001b[0m\u001b[0m\n\u001b[0m\u001b[0;32m    152\u001b[0m \u001b[1;33m\u001b[0m\u001b[0m\n\u001b[0;32m    153\u001b[0m     \u001b[1;32mif\u001b[0m \u001b[0misinstance\u001b[0m\u001b[1;33m(\u001b[0m\u001b[0mfigure_or_data\u001b[0m\u001b[1;33m,\u001b[0m \u001b[0mdict\u001b[0m\u001b[1;33m)\u001b[0m\u001b[1;33m:\u001b[0m\u001b[1;33m\u001b[0m\u001b[0m\n",
      "\u001b[1;32m/cs/home/tt24/.local/lib/python2.7/site-packages/plotly/plotly/plotly.pyc\u001b[0m in \u001b[0;36mplot\u001b[1;34m(figure_or_data, validate, **plot_options)\u001b[0m\n\u001b[0;32m    239\u001b[0m \u001b[1;33m\u001b[0m\u001b[0m\n\u001b[0;32m    240\u001b[0m     \u001b[0mplot_options\u001b[0m \u001b[1;33m=\u001b[0m \u001b[0m_plot_option_logic\u001b[0m\u001b[1;33m(\u001b[0m\u001b[0mplot_options\u001b[0m\u001b[1;33m)\u001b[0m\u001b[1;33m\u001b[0m\u001b[0m\n\u001b[1;32m--> 241\u001b[1;33m     \u001b[0mres\u001b[0m \u001b[1;33m=\u001b[0m \u001b[0m_send_to_plotly\u001b[0m\u001b[1;33m(\u001b[0m\u001b[0mfigure\u001b[0m\u001b[1;33m,\u001b[0m \u001b[1;33m**\u001b[0m\u001b[0mplot_options\u001b[0m\u001b[1;33m)\u001b[0m\u001b[1;33m\u001b[0m\u001b[0m\n\u001b[0m\u001b[0;32m    242\u001b[0m     \u001b[1;32mif\u001b[0m \u001b[0mres\u001b[0m\u001b[1;33m[\u001b[0m\u001b[1;34m'error'\u001b[0m\u001b[1;33m]\u001b[0m \u001b[1;33m==\u001b[0m \u001b[1;34m''\u001b[0m\u001b[1;33m:\u001b[0m\u001b[1;33m\u001b[0m\u001b[0m\n\u001b[0;32m    243\u001b[0m         \u001b[1;32mif\u001b[0m \u001b[0mplot_options\u001b[0m\u001b[1;33m[\u001b[0m\u001b[1;34m'auto_open'\u001b[0m\u001b[1;33m]\u001b[0m\u001b[1;33m:\u001b[0m\u001b[1;33m\u001b[0m\u001b[0m\n",
      "\u001b[1;32m/cs/home/tt24/.local/lib/python2.7/site-packages/plotly/plotly/plotly.pyc\u001b[0m in \u001b[0;36m_send_to_plotly\u001b[1;34m(figure, **plot_options)\u001b[0m\n\u001b[0;32m   1402\u001b[0m \u001b[1;33m\u001b[0m\u001b[0m\n\u001b[0;32m   1403\u001b[0m     \u001b[1;32mif\u001b[0m \u001b[1;34m'error'\u001b[0m \u001b[1;32min\u001b[0m \u001b[0mr\u001b[0m \u001b[1;32mand\u001b[0m \u001b[0mr\u001b[0m\u001b[1;33m[\u001b[0m\u001b[1;34m'error'\u001b[0m\u001b[1;33m]\u001b[0m \u001b[1;33m!=\u001b[0m \u001b[1;34m''\u001b[0m\u001b[1;33m:\u001b[0m\u001b[1;33m\u001b[0m\u001b[0m\n\u001b[1;32m-> 1404\u001b[1;33m         \u001b[1;32mraise\u001b[0m \u001b[0mexceptions\u001b[0m\u001b[1;33m.\u001b[0m\u001b[0mPlotlyError\u001b[0m\u001b[1;33m(\u001b[0m\u001b[0mr\u001b[0m\u001b[1;33m[\u001b[0m\u001b[1;34m'error'\u001b[0m\u001b[1;33m]\u001b[0m\u001b[1;33m)\u001b[0m\u001b[1;33m\u001b[0m\u001b[0m\n\u001b[0m\u001b[0;32m   1405\u001b[0m \u001b[1;33m\u001b[0m\u001b[0m\n\u001b[0;32m   1406\u001b[0m     \u001b[1;31m# Check if the url needs a secret key\u001b[0m\u001b[1;33m\u001b[0m\u001b[1;33m\u001b[0m\u001b[0m\n",
      "\u001b[1;31mPlotlyError\u001b[0m: Request throttled. You've created/updated more charts than your allowed limit of 50/day. You may either wait one day or upgrade your account. Visit https://plot.ly/settings/subscription/ to upgrade."
     ]
    }
   ],
   "source": [
    "import plotly.plotly as py\n",
    "import plotly.graph_objs as go\n",
    "beta = 1\n",
    "col1 = 12\n",
    "col2 = 15\n",
    "betas = [0.1151,0.2151,0.3151]\n",
    "deltas = [0.289,0.389,0.489,0.589]\n",
    "rewires = [0.0,0.15,0.25,0.35]\n",
    "colors = ['rgba(51,0,255,1)', 'rgba(51,0,202,1)', 'rgba(51,0,150,1)', 'rgba(51,0,102,1)']\n",
    "x1 = [\"SEIR\"]\n",
    "data = []\n",
    "y0= {}\n",
    "\n",
    "for delta in range(0,len(deltas)):\n",
    "    y1 = [estimate_average(beta,col1)]\n",
    "    x1 = [\"SEIR\"]\n",
    "    for rewire in range(0, len(rewires)):\n",
    "        x1.append(\"SEIDR r_degree=\"+str(rewires[rewire]))\n",
    "        y1.append(estimate_average(beta,col2, delta,rewire))\n",
    "    y0[delta] = y1\n",
    "\n",
    "\n",
    "for delta in range(0,len(deltas)):\n",
    "    trace = go.Bar(\n",
    "        x=x1,\n",
    "        y=y0[delta],\n",
    "        name='$\\\\delta='+str(deltas[delta])+\"$\",\n",
    "        marker=dict(\n",
    "            color=colors[delta], \n",
    "            line=dict(\n",
    "                color='rgba(255,255,255,1)',\n",
    "                width=2,\n",
    "            )\n",
    "        )\n",
    "    )\n",
    "    data.append(trace)\n",
    "    \n",
    "layout = go.Layout(\n",
    "    barmode='group', \n",
    "    title='$Maximum\\\\quad Outbreak\\\\quad Proportion\\\\quad\\\\beta='+str(betas[beta])+\"$\",\n",
    ")\n",
    "\n",
    "fig = go.Figure(data=data, layout=layout)\n",
    "py.iplot(fig, filename='MaxPropOS'+str(beta))\n",
    "# plot_url = py.plot(fig, filename='color-bar')"
   ]
  },
  {
   "cell_type": "code",
   "execution_count": 28,
   "metadata": {
    "collapsed": false
   },
   "outputs": [
    {
     "data": {
      "image/png": "[encoded data removed]",
      "text/plain": [
       "<matplotlib.figure.Figure at 0x7f5cca1aa6d0>"
      ]
     },
     "metadata": {},
     "output_type": "display_data"
    }
   ],
   "source": [
    "import seaborn as sns\n",
    "data = {}\n",
    "data['day'] = [1,2,3]\n",
    "data['total_bill'] = [4,5,60]\n",
    "data['sex'] = ['female', 'male']\n",
    "ax = sns.barplot(x=[1,2,3], y=[4,5,6], hue={1:[10,1,1],2:[0,50,0], 3:[1,1,1]})"
   ]
  },
  {
   "cell_type": "code",
   "execution_count": null,
   "metadata": {
    "collapsed": true
   },
   "outputs": [],
   "source": []
  }
 ],
 "metadata": {
  "kernelspec": {
   "display_name": "Python 2",
   "language": "python",
   "name": "python2"
  },
  "language_info": {
   "codemirror_mode": {
    "name": "ipython",
    "version": 2
   },
   "file_extension": ".py",
   "mimetype": "text/x-python",
   "name": "python",
   "nbconvert_exporter": "python",
   "pygments_lexer": "ipython2",
   "version": "2.7.8"
  }
 },
 "nbformat": 4,
 "nbformat_minor": 0
}
