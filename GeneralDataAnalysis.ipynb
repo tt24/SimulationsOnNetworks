{
 "cells": [
  {
   "cell_type": "code",
   "execution_count": 1,
   "metadata": {
    "collapsed": true
   },
   "outputs": [],
   "source": [
    "import csv\n",
    "import matplotlib.pyplot as plt\n",
    "%matplotlib inline"
   ]
  },
  {
   "cell_type": "code",
   "execution_count": 5,
   "metadata": {
    "collapsed": false
   },
   "outputs": [],
   "source": [
    "def estimate_average(b,col,graph,delt=-1,rew=-1):\n",
    "    data_lists = {}\n",
    "    i = 0\n",
    "    if delt==-1:\n",
    "        with open('ExperimentRunner/src/'+graph+'/beta'+str(b)+'/seir-experiment1.csv', 'rb') as f:\n",
    "            reader = csv.reader(f)\n",
    "            for row in reader:\n",
    "                data_lists[i] = list(row)\n",
    "                i=i+1\n",
    "    else:\n",
    "        with open('ExperimentRunner/src/'+graph+'/beta'+str(b)+'/delta'+str(delt)+'/experiment'+str(rew)+'.csv', 'rb') as f:\n",
    "            reader = csv.reader(f)\n",
    "            for row in reader:\n",
    "                data_lists[i] = list(row)\n",
    "                i=i+1\n",
    "            \n",
    "    data = []\n",
    "    average_data = 0\n",
    "    for j in range(1,len(data_lists)):\n",
    "        var = float(data_lists[j][col])\n",
    "        average_data = average_data+var\n",
    "        data.append(var)\n",
    "    return average_data/len(data)\n"
   ]
  },
  {
   "cell_type": "code",
   "execution_count": 14,
   "metadata": {
    "collapsed": false
   },
   "outputs": [
    {
     "name": "stdout",
     "output_type": "stream",
     "text": [
      "658.718267027\n",
      "1744.72\n",
      "0.348944\n",
      "390.145027143\n",
      "1825.78\n",
      "0.365156\n"
     ]
    }
   ],
   "source": [
    "print estimate_average(0,13, 0,0)\n",
    "print estimate_average(0,14,0,0)\n",
    "print estimate_average(0,15,0,0)\n",
    "print estimate_average(0,10)\n",
    "print estimate_average(0,11)\n",
    "print estimate_average(0,12)"
   ]
  },
  {
   "cell_type": "code",
   "execution_count": 32,
   "metadata": {
    "collapsed": false
   },
   "outputs": [
    {
     "data": {
      "text/html": [
       "<iframe id=\"igraph\" scrolling=\"no\" style=\"border:none;\"seamless=\"seamless\" src=\"https://plot.ly/~tt24/7.embed\" height=\"525px\" width=\"100%\"></iframe>"
      ],
      "text/plain": [
       "<plotly.tools.PlotlyDisplay object>"
      ]
     },
     "execution_count": 32,
     "metadata": {},
     "output_type": "execute_result"
    }
   ],
   "source": [
    "# import plotly.plotly as py\n",
    "# import plotly.graph_objs as go\n",
    "# deltas = [0.289,0.389,0.489,0.589]\n",
    "# rewires = [0.0,0.15,0.25,0.35]\n",
    "# color1 = ['rgba(204,204,204,1)']\n",
    "# x1 = [\"\"]\n",
    "# y1 = [estimate_average(0,10)]\n",
    "# for delta in range(0,len(deltas)):\n",
    "#     for rewire in range(0, len(rewires)):\n",
    "#         x1.append(\"$\\\\delta=\"+str(deltas[delta])+\",\\\\quad r\\_degree=\"+str(rewires[rewire])+\"$\")\n",
    "#         y1.append(estimate_average(0,13, delta,rewire))\n",
    "#         color1.append('rgba(222,45,38,0.8)')\n",
    "\n",
    "# bar_data = go.Bar(\n",
    "#     x=x1,\n",
    "#     y=y1,\n",
    "#     marker=dict(\n",
    "#         color=color1,\n",
    "#     ),\n",
    "# )\n",
    "# data = [bar_data]\n",
    "# layout = go.Layout(\n",
    "#     title='Mean Outbreak Size',\n",
    "# )\n",
    "# fig = go.Figure(data=data, layout=layout)\n",
    "# py.iplot(fig, filename='pandas/volts_histogram')\n",
    "# # plot_url = py.plot(fig, filename='color-bar')"
   ]
  },
  {
   "cell_type": "code",
   "execution_count": 21,
   "metadata": {
    "collapsed": false
   },
   "outputs": [],
   "source": [
    "import plotly.plotly as py\n",
    "import plotly.graph_objs as go\n",
    "beta = 2\n",
    "col1 = 12\n",
    "col2 = 15\n",
    "betas = [0.1151,0.2151,0.3151]\n",
    "deltas = [0.289,0.389,0.489,0.589]\n",
    "rewires = [0.0,0.15,0.25,0.35]\n",
    "colors = ['rgba(51,0,255,1)', 'rgba(51,0,202,1)', 'rgba(51,0,150,1)', 'rgba(51,0,102,1)']\n",
    "x1 = [\"SEIR\"]\n",
    "data = []\n",
    "y0= {}\n",
    "\n",
    "# for delta in range(0,len(deltas)):\n",
    "#     y1 = [estimate_average(beta,col1)]\n",
    "#     x1 = [\"SEIR\"]\n",
    "#     for rewire in range(0, len(rewires)):\n",
    "#         x1.append(\"SEIDR r_degree=\"+str(rewires[rewire]))\n",
    "#         y1.append(estimate_average(beta,col2, delta,rewire))\n",
    "#     y0[delta] = y1\n",
    "\n",
    "\n",
    "# for delta in range(0,len(deltas)):\n",
    "#     trace = go.Bar(\n",
    "#         x=x1,\n",
    "#         y=y0[delta],\n",
    "#         name='$\\\\delta='+str(deltas[delta])+\"$\",\n",
    "#         marker=dict(\n",
    "#             color=colors[delta], \n",
    "#             line=dict(\n",
    "#                 color='rgba(255,255,255,1)',\n",
    "#                 width=2,\n",
    "#             )\n",
    "#         )\n",
    "#     )\n",
    "#     data.append(trace)\n",
    "    \n",
    "# layout = go.Layout(\n",
    "#     barmode='group', \n",
    "#     title='$Maximum\\\\quad Outbreak\\\\quad Proportion\\\\quad\\\\beta='+str(betas[beta])+\"$\",\n",
    "# )\n",
    "\n",
    "# fig = go.Figure(data=data, layout=layout)\n",
    "# py.iplot(fig, filename='MaxPropOS'+str(beta))\n",
    "# # plot_url = py.plot(fig, filename='color-bar')"
   ]
  },
  {
   "cell_type": "code",
   "execution_count": 28,
   "metadata": {
    "collapsed": false
   },
   "outputs": [
    {
     "name": "stdout",
     "output_type": "stream",
     "text": [
      "[177.14, 174.0, 171.18, 174.28, 178.56, 177.48, 171.38, 170.1, 173.48, 175.16, 166.82, 165.76, 180.12, 173.04, 171.38, 172.08, 168.68, 160.68, 169.12, 167.34, 168.64, 166.82, 170.44, 163.3, 170.38, 169.98, 172.08, 169.66, 171.68, 168.04, 160.84, 166.02, 172.62, 165.46, 163.74, 163.22641509433961, 171.48, 162.62, 166.2, 162.06382978723406, 165.06, 164.16, 160.72, 164.24, 169.52, 165.24, 159.84, 162.2]\n",
      "['0.1151,0.289,0.0', '0.1151,0.289,0.15', '0.1151,0.289,0.25', '0.1151,0.289,0.35', '0.1151,0.389,0.0', '0.1151,0.389,0.15', '0.1151,0.389,0.25', '0.1151,0.389,0.35', '0.1151,0.489,0.0', '0.1151,0.489,0.15', '0.1151,0.489,0.25', '0.1151,0.489,0.35', '0.1151,0.589,0.0', '0.1151,0.589,0.15', '0.1151,0.589,0.25', '0.1151,0.589,0.35', '0.2151,0.289,0.0', '0.2151,0.289,0.15', '0.2151,0.289,0.25', '0.2151,0.289,0.35', '0.2151,0.389,0.0', '0.2151,0.389,0.15', '0.2151,0.389,0.25', '0.2151,0.389,0.35', '0.2151,0.489,0.0', '0.2151,0.489,0.15', '0.2151,0.489,0.25', '0.2151,0.489,0.35', '0.2151,0.589,0.0', '0.2151,0.589,0.15', '0.2151,0.589,0.25', '0.2151,0.589,0.35', '0.3151,0.289,0.0', '0.3151,0.289,0.15', '0.3151,0.289,0.25', '0.3151,0.289,0.35', '0.3151,0.389,0.0', '0.3151,0.389,0.15', '0.3151,0.389,0.25', '0.3151,0.389,0.35', '0.3151,0.489,0.0', '0.3151,0.489,0.15', '0.3151,0.489,0.25', '0.3151,0.489,0.35', '0.3151,0.589,0.0', '0.3151,0.589,0.15', '0.3151,0.589,0.25', '0.3151,0.589,0.35']\n",
      "[331.4, 192.64, 186.08, 183.42, 332.22, 192.76, 187.88, 181.96, 316.9, 186.98, 177.66, 175.54, 306.88, 187.24, 177.74, 179.42, 484.0, 210.0, 184.5, 170.0, 299.55102040816325, 187.06, 176.33333333333334, 169.0, 270.5, 172.5, 170.5, 180.0, 263.5, 179.0, 167.0, 183.5, 282.8, 181.06, 180.28, 174.6, 268.42, 182.74, 173.62, 167.72, 270.2, 176.42, 171.9, 175.64, 275.22, 179.08, 175.9, 173.48]\n",
      "['0.1151,0.289,0.0', '0.1151,0.289,0.15', '0.1151,0.289,0.25', '0.1151,0.289,0.35', '0.1151,0.389,0.0', '0.1151,0.389,0.15', '0.1151,0.389,0.25', '0.1151,0.389,0.35', '0.1151,0.489,0.0', '0.1151,0.489,0.15', '0.1151,0.489,0.25', '0.1151,0.489,0.35', '0.1151,0.589,0.0', '0.1151,0.589,0.15', '0.1151,0.589,0.25', '0.1151,0.589,0.35', '0.2151,0.289,0.0', '0.2151,0.289,0.15', '0.2151,0.289,0.25', '0.2151,0.289,0.35', '0.2151,0.389,0.0', '0.2151,0.389,0.15', '0.2151,0.389,0.25', '0.2151,0.389,0.35', '0.2151,0.489,0.0', '0.2151,0.489,0.15', '0.2151,0.489,0.25', '0.2151,0.489,0.35', '0.2151,0.589,0.0', '0.2151,0.589,0.15', '0.2151,0.589,0.25', '0.2151,0.589,0.35', '0.3151,0.289,0.0', '0.3151,0.289,0.15', '0.3151,0.289,0.25', '0.3151,0.289,0.35', '0.3151,0.389,0.0', '0.3151,0.389,0.15', '0.3151,0.389,0.25', '0.3151,0.389,0.35', '0.3151,0.489,0.0', '0.3151,0.489,0.15', '0.3151,0.489,0.25', '0.3151,0.489,0.35', '0.3151,0.589,0.0', '0.3151,0.589,0.15', '0.3151,0.589,0.25', '0.3151,0.589,0.35']\n"
     ]
    },
    {
     "data": {
      "text/html": [
       "<iframe id=\"igraph\" scrolling=\"no\" style=\"border:none;\"seamless=\"seamless\" src=\"https://plot.ly/~tt24/33.embed\" height=\"525px\" width=\"100%\"></iframe>"
      ],
      "text/plain": [
       "<plotly.tools.PlotlyDisplay object>"
      ]
     },
     "execution_count": 28,
     "metadata": {},
     "output_type": "execute_result"
    }
   ],
   "source": [
    "import plotly.plotly as py\n",
    "import plotly.graph_objs as go\n",
    "col1 = 10\n",
    "col2 = 15\n",
    "betas = [0.1151,0.2151,0.3151]\n",
    "graphs = ['ERgraphExperiments', 'HCgraphExperiment/temp']\n",
    "names = ['Erdos-Renyi graph', 'HCgraph']\n",
    "data = []\n",
    "colors = ['rgba(0,139,139,1)', 'rgba(250,128,114,1)']\n",
    "for graph in range(0, len(graphs)):\n",
    "    x1 = []\n",
    "    y1 = []\n",
    "    for beta in range(0, len(betas)):\n",
    "        for delt in range(0, len(deltas)):\n",
    "            for rew in range(0, len(rewires)):\n",
    "                x1.append(str(betas[beta])+\",\"+str(deltas[delt])+\",\"+str(rewires[rew]))\n",
    "                y1.append(estimate_average(beta, col1, graphs[graph], delt, rew))\n",
    "    print y1\n",
    "    print x1\n",
    "    trace = go.Bar(\n",
    "        x=x1,\n",
    "        y=y1,\n",
    "        name=names[graph],\n",
    "        marker=dict(\n",
    "            color=colors[graph], \n",
    "            line=dict(\n",
    "                color='rgba(255,255,255,1)',\n",
    "                width=2,\n",
    "            )\n",
    "        )\n",
    "    )\n",
    "    data.append(trace)\n",
    "    \n",
    "layout = go.Layout(\n",
    "    barmode='group', \n",
    "    title=\"Difference in a number of time steps between two graphs\",\n",
    "    yaxis=dict(\n",
    "        title='events'\n",
    "    )\n",
    ")\n",
    "\n",
    "fig = go.Figure(data=data, layout=layout)\n",
    "py.iplot(fig, filename='TimestepsTwoGraphs1'+str(beta))\n"
   ]
  },
  {
   "cell_type": "code",
   "execution_count": 11,
   "metadata": {
    "collapsed": false
   },
   "outputs": [
    {
     "name": "stdout",
     "output_type": "stream",
     "text": [
      "{0: ['$\\\\beta=$0.1151', '$\\\\beta=$0.2151', '$\\\\beta=$0.3151'], 1: ['$\\\\beta=$0.1151', '$\\\\beta=$0.2151', '$\\\\beta=$0.3151']} {0: [183.62, 168.7, 165.7], 1: [452.78, 334.36, 283.14]}\n"
     ]
    },
    {
     "data": {
      "text/html": [
       "<iframe id=\"igraph\" scrolling=\"no\" style=\"border:none;\"seamless=\"seamless\" src=\"https://plot.ly/~tt24/31.embed\" height=\"525px\" width=\"100%\"></iframe>"
      ],
      "text/plain": [
       "<plotly.tools.PlotlyDisplay object>"
      ]
     },
     "execution_count": 11,
     "metadata": {},
     "output_type": "execute_result"
    }
   ],
   "source": [
    "import plotly.plotly as py\n",
    "import plotly.graph_objs as go\n",
    "col1 = 8\n",
    "col2 = 15\n",
    "betas = [0.1151,0.2151,0.3151]\n",
    "graphs = ['ERgraphExperiments', 'HCgraphExperiment']\n",
    "names = ['Erdos-Renyi graph', 'HCgraph']\n",
    "data = []\n",
    "colors = ['rgba(0,139,139,1)', 'rgba(250,128,114,1)']\n",
    "for graph in range(0, len(graphs)):\n",
    "    x1 = []\n",
    "    y1 = []\n",
    "    for beta in range(0, len(betas)):\n",
    "        x1.append(\"$\\\\beta=\"+str(betas[beta])+\"$\")\n",
    "        y1.append(estimate_average(beta, col1, graphs[graph]))\n",
    "    trace = go.Bar(\n",
    "        x=x1,\n",
    "        y=y1,\n",
    "        name=names[graph],\n",
    "        marker=dict(\n",
    "            color=colors[graph], \n",
    "            line=dict(\n",
    "                color='rgba(255,255,255,1)',\n",
    "                width=2,\n",
    "            )\n",
    "        )\n",
    "    )\n",
    "    data.append(trace)\n",
    "\n",
    "\n",
    "\n",
    "layout = go.Layout(\n",
    "    barmode='group', \n",
    "    title=\"Difference in a number of events between two graphs\",\n",
    "    yaxis=dict(\n",
    "        title='events'\n",
    "    )\n",
    ")\n",
    "\n",
    "fig = go.Figure(data=data, layout=layout)\n",
    "py.iplot(fig, filename='EventsTwoGraphs'+str(beta))\n",
    "# # plot_url = py.plot(fig, filename='color-bar')"
   ]
  },
  {
   "cell_type": "code",
   "execution_count": null,
   "metadata": {
    "collapsed": true
   },
   "outputs": [],
   "source": []
  },
  {
   "cell_type": "code",
   "execution_count": null,
   "metadata": {
    "collapsed": true
   },
   "outputs": [],
   "source": []
  }
 ],
 "metadata": {
  "kernelspec": {
   "display_name": "Python 2",
   "language": "python",
   "name": "python2"
  },
  "language_info": {
   "codemirror_mode": {
    "name": "ipython",
    "version": 2
   },
   "file_extension": ".py",
   "mimetype": "text/x-python",
   "name": "python",
   "nbconvert_exporter": "python",
   "pygments_lexer": "ipython2",
   "version": "2.7.8"
  }
 },
 "nbformat": 4,
 "nbformat_minor": 0
}
